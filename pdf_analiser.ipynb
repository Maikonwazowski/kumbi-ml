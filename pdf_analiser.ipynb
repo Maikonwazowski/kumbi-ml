{
 "metadata": {
  "language_info": {
   "codemirror_mode": {
    "name": "ipython",
    "version": 3
   },
   "file_extension": ".py",
   "mimetype": "text/x-python",
   "name": "python",
   "nbconvert_exporter": "python",
   "pygments_lexer": "ipython3",
   "version": "3.6.4-final"
  },
  "orig_nbformat": 2,
  "kernelspec": {
   "name": "python3",
   "display_name": "Python 3.6.4 64-bit",
   "metadata": {
    "interpreter": {
     "hash": "d5845c2a1788c281990e1ce42ea9dfe99597b7114d44e3520bf20247af67e665"
    }
   }
  }
 },
 "nbformat": 4,
 "nbformat_minor": 2,
 "cells": [
  {
   "cell_type": "code",
   "execution_count": 7,
   "metadata": {},
   "outputs": [],
   "source": [
    "from pdfminer.pdfinterp import PDFResourceManager, PDFPageInterpreter\n",
    "#process_pdf\n",
    "from pdfminer.pdfpage import PDFPage\n",
    "from pdfminer.converter import TextConverter\n",
    "from pdfminer.layout import LAParams\n",
    "from io import StringIO\n"
   ]
  },
  {
   "cell_type": "code",
   "execution_count": 8,
   "metadata": {},
   "outputs": [],
   "source": [
    "def pdf_to_text(pdfname):\n",
    "\n",
    "    rsrcmgr = PDFResourceManager()\n",
    "    sio = StringIO()\n",
    "    codec = 'utf-8'\n",
    "    laparams = LAParams()\n",
    "    device = TextConverter(rsrcmgr, sio, laparams=laparams)\n",
    "    interpreter = PDFPageInterpreter(rsrcmgr, device)\n",
    "\n",
    "    fp = open(pdfname, 'rb')\n",
    "    for page in PDFPage.get_pages(fp):\n",
    "        interpreter.process_page(page)\n",
    "    fp.close()\n",
    "\n",
    "    text = sio.getvalue()\n",
    "\n",
    "    device.close()\n",
    "    sio.close()\n",
    "\n",
    "    return text "
   ]
  },
  {
   "cell_type": "code",
   "execution_count": 27,
   "metadata": {},
   "outputs": [
    {
     "output_type": "stream",
     "name": "stdout",
     "text": [
      "22/01/2021 21:01\n\nREPÚBLICA FEDERATIVA DO BRASIL\n\nCADASTRO NACIONAL DA PESSOA JURÍDICA\n\n \n   \n \n\nNÚMERO DE INSCRIÇÃO \n12.528.708/0001-07\nMATRIZ \n\nCOMPROVANTE DE INSCRIÇÃO E DE SITUAÇÃO\n\nCADASTRAL\n\nDATA DE ABERTURA \n10/09/2010 \n\nNOME EMPRESARIAL \nAERIS INDUSTRIA E COMERCIO DE EQUIPAMENTOS PARA GERACAO DE ENERGIA S.A \n\nTÍTULO DO ESTABELECIMENTO (NOME DE FANTASIA) \n******** \n\nPORTE \nDEMAIS \n\nCÓDIGO E DESCRIÇÃO DA ATIVIDADE ECONÔMICA PRINCIPAL \n27.10-4-01 - Fabricação de geradores de corrente contínua e alternada, peças e acessórios \n\nCÓDIGO E DESCRIÇÃO DAS ATIVIDADES ECONÔMICAS SECUNDÁRIAS \n33.19-8-00 - Manutenção e reparação de equipamentos e produtos não especificados anteriormente \n46.69-9-99 - Comércio atacadista de outras máquinas e equipamentos não especificados anteriormente; partes e\npeças \n52.12-5-00 - Carga e descarga \n71.12-0-00 - Serviços de engenharia \n\nCÓDIGO E DESCRIÇÃO DA NATUREZA JURÍDICA \n205-4 - Sociedade Anônima Fechada \n\nLOGRADOURO \nROD CE 155 \n\nCEP \n61.680-000 \n\nENDEREÇO ELETRÔNICO \n\nNÚMERO \nS/N \n\nCOMPLEMENTO \nKM 02 \n\nBAIRRO/DISTRITO \nCOMPLEXO INDUSTRIAL E\nPORTUARIO DO PECEM \n\nMUNICÍPIO \nCAUCAIA \n\nUF \nCE \n\nTELEFONE \n(85) 3304-5858 \n\nENTE FEDERATIVO RESPONSÁVEL (EFR) \n***** \n\nSITUAÇÃO CADASTRAL \nATIVA \n\nMOTIVO DE SITUAÇÃO CADASTRAL \n\nSITUAÇÃO ESPECIAL \n******** \n\nDATA DA SITUAÇÃO CADASTRAL \n10/09/2010 \n\nDATA DA SITUAÇÃO ESPECIAL \n******** \n\n \n\n \n\n \n\n \n \n\n \n \n\n \n\n \n\n \n\n \n\n \n\n \n\nAprovado pela Instrução Normativa RFB nº 1.863, de 27 de dezembro de 2018.\n\nEmitido no dia 22/01/2021 às 22:00:56 (data e hora de Brasília).\n\nPágina: 1/1\n\nhttps://servicos.receita.fazenda.gov.br/servicos/cnpjreva/Cnpjreva_Comprovante.asp\n\nPágina 1 de 1\n\n\f\n"
     ]
    }
   ],
   "source": [
    "url = \"D:\\\\Projects\\\\LIME\\\\ComputerVision\\\\assets\\\\CNPJ1.pdf\"\n",
    "\n",
    "data1 =  pdf_to_text(url)\n",
    "print(data1)"
   ]
  },
  {
   "cell_type": "code",
   "execution_count": 28,
   "metadata": {},
   "outputs": [
    {
     "output_type": "execute_result",
     "data": {
      "text/plain": [
       "['CNPJ1.pdf',\n",
       " 'CNPJ10.pdf',\n",
       " 'CNPJ11.pdf',\n",
       " 'CNPJ12.pdf',\n",
       " 'CNPJ13.pdf',\n",
       " 'CNPJ14.pdf',\n",
       " 'CNPJ15.pdf',\n",
       " 'CNPJ16.pdf',\n",
       " 'CNPJ17.pdf',\n",
       " 'CNPJ18.pdf',\n",
       " 'CNPJ19.pdf',\n",
       " 'CNPJ2.pdf',\n",
       " 'CNPJ20.pdf',\n",
       " 'CNPJ21.pdf',\n",
       " 'CNPJ22.pdf',\n",
       " 'CNPJ23.pdf',\n",
       " 'CNPJ24.pdf',\n",
       " 'CNPJ25.pdf',\n",
       " 'CNPJ26.pdf',\n",
       " 'CNPJ27.pdf',\n",
       " 'CNPJ28.pdf',\n",
       " 'CNPJ29.pdf',\n",
       " 'CNPJ3.pdf',\n",
       " 'CNPJ30.pdf',\n",
       " 'CNPJ31.pdf',\n",
       " 'CNPJ32.pdf',\n",
       " 'CNPJ33.pdf',\n",
       " 'CNPJ34.pdf',\n",
       " 'CNPJ35.pdf',\n",
       " 'CNPJ36.pdf',\n",
       " 'CNPJ37.pdf',\n",
       " 'CNPJ38.pdf',\n",
       " 'CNPJ39.pdf',\n",
       " 'CNPJ4.pdf',\n",
       " 'CNPJ40.pdf',\n",
       " 'CNPJ41.pdf',\n",
       " 'CNPJ42.pdf',\n",
       " 'CNPJ43.pdf',\n",
       " 'CNPJ44.pdf',\n",
       " 'CNPJ45.pdf',\n",
       " 'CNPJ46.pdf',\n",
       " 'CNPJ47.pdf',\n",
       " 'CNPJ48.pdf',\n",
       " 'CNPJ49.pdf',\n",
       " 'CNPJ5.pdf',\n",
       " 'CNPJ50.pdf',\n",
       " 'CNPJ6.pdf',\n",
       " 'CNPJ7.pdf',\n",
       " 'CNPJ8.pdf',\n",
       " 'CNPJ9.pdf']"
      ]
     },
     "metadata": {},
     "execution_count": 28
    }
   ],
   "source": [
    "mypath = \"D:\\\\Projects\\\\LIME\\\\ComputerVision\\\\assets\"\n",
    "\n",
    "from os import listdir\n",
    "from os.path import isfile, join\n",
    "onlyfiles = [f for f in listdir(mypath) if isfile(join(mypath, f))]\n",
    "\n",
    "onlyfiles"
   ]
  },
  {
   "cell_type": "code",
   "execution_count": 29,
   "metadata": {},
   "outputs": [
    {
     "output_type": "execute_result",
     "data": {
      "text/plain": [
       "'22/01/2021 21:01\\n\\nREPÚBLICA FEDERATIVA DO BRASIL\\n\\nCADASTRO NACIONAL DA PESSOA JURÍDICA\\n\\n \\n   \\n \\n\\nNÚMERO DE INSCRIÇÃO \\n12.528.708/0001-07\\nMATRIZ \\n\\nCOMPROVANTE DE INSCRIÇÃO E DE SITUAÇÃO\\n\\nCADASTRAL\\n\\nDATA DE ABERTURA \\n10/09/2010 \\n\\nNOME EMPRESARIAL \\nAERIS INDUSTRIA E COMERCIO DE EQUIPAMENTOS PARA GERACAO DE ENERGIA S.A \\n\\nTÍTULO DO ESTABELECIMENTO (NOME DE FANTASIA) \\n******** \\n\\nPORTE \\nDEMAIS \\n\\nCÓDIGO E DESCRIÇÃO DA ATIVIDADE ECONÔMICA PRINCIPAL \\n27.10-4-01 - Fabricação de geradores de corrente contínua e alternada, peças e acessórios \\n\\nCÓDIGO E DESCRIÇÃO DAS ATIVIDADES ECONÔMICAS SECUNDÁRIAS \\n33.19-8-00 - Manutenção e reparação de equipamentos e produtos não especificados anteriormente \\n46.69-9-99 - Comércio atacadista de outras máquinas e equipamentos não especificados anteriormente; partes e\\npeças \\n52.12-5-00 - Carga e descarga \\n71.12-0-00 - Serviços de engenharia \\n\\nCÓDIGO E DESCRIÇÃO DA NATUREZA JURÍDICA \\n205-4 - Sociedade Anônima Fechada \\n\\nLOGRADOURO \\nROD CE 155 \\n\\nCEP \\n61.680-000 \\n\\nENDEREÇO ELETRÔNICO \\n\\nNÚMERO \\nS/N \\n\\nCOMPLEMENTO \\nKM 02 \\n\\nBAIRRO/DISTRITO \\nCOMPLEXO INDUSTRIAL E\\nPORTUARIO DO PECEM \\n\\nMUNICÍPIO \\nCAUCAIA \\n\\nUF \\nCE \\n\\nTELEFONE \\n(85) 3304-5858 \\n\\nENTE FEDERATIVO RESPONSÁVEL (EFR) \\n***** \\n\\nSITUAÇÃO CADASTRAL \\nATIVA \\n\\nMOTIVO DE SITUAÇÃO CADASTRAL \\n\\nSITUAÇÃO ESPECIAL \\n******** \\n\\nDATA DA SITUAÇÃO CADASTRAL \\n10/09/2010 \\n\\nDATA DA SITUAÇÃO ESPECIAL \\n******** \\n\\n \\n\\n \\n\\n \\n\\n \\n \\n\\n \\n \\n\\n \\n\\n \\n\\n \\n\\n \\n\\n \\n\\n \\n\\nAprovado pela Instrução Normativa RFB nº 1.863, de 27 de dezembro de 2018.\\n\\nEmitido no dia 22/01/2021 às 22:00:56 (data e hora de Brasília).\\n\\nPágina: 1/1\\n\\nhttps://servicos.receita.fazenda.gov.br/servicos/cnpjreva/Cnpjreva_Comprovante.asp\\n\\nPágina 1 de 1\\n\\n\\x0c'"
      ]
     },
     "metadata": {},
     "execution_count": 29
    }
   ],
   "source": [
    "data1"
   ]
  },
  {
   "cell_type": "code",
   "execution_count": 32,
   "metadata": {},
   "outputs": [
    {
     "output_type": "execute_result",
     "data": {
      "text/plain": [
       "'12.528.708/0001-07'"
      ]
     },
     "metadata": {},
     "execution_count": 32
    }
   ],
   "source": [
    "data1[118:136]"
   ]
  },
  {
   "cell_type": "code",
   "execution_count": 31,
   "metadata": {},
   "outputs": [
    {
     "output_type": "stream",
     "name": "stdout",
     "text": [
      "REPÚBLICA FEDERATIVA DO BRASIL\n\nCADASTRO NACIONAL DA PESSOA JURÍDICA\n\n \n   \n \n\nNÚMERO DE INSCRIÇÃO \n05.878.397/0001-32\nMATRIZ \n\nCOMPROVANTE DE INSCRIÇÃO E DE SITUAÇÃO\n\nCADASTRAL\n\nDATA DE ABERTURA \n08/07/2003 \n\nNOME EMPRESARIAL \nALIANSCE SONAE SHOPPING CENTERS S.A \n\nTÍTULO DO ESTABELECIMENTO (NOME DE FANTASIA) \n******** \n\nCÓDIGO E DESCRIÇÃO DA ATIVIDADE ECONÔMICA PRINCIPAL \n41.10-7-00 - Incorporação de empreendimentos imobiliários \n\nCÓDIGO E DESCRIÇÃO DAS ATIVIDADES ECONÔMICAS SECUNDÁRIAS \n64.62-0-00 - Holdings de instituições não-financeiras \n68.10-2-02 - Aluguel de imóveis próprios \n68.22-6-00 - Gestão e administração da propriedade imobiliária \n\n22/01/2021 21:03\n\nPORTE \nDEMAIS \n\nUF \nRJ \n\n \n\n \n\n \n\n \n \n\n \n \n\n \n\n \n \n\n \n\n \n\n \n\nCÓDIGO E DESCRIÇÃO DA NATUREZA JURÍDICA \n204-6 - Sociedade Anônima Aberta \n\nLOGRADOURO \nR DIAS FERREIRA \n\nCEP \n22.431-050 \n\nBAIRRO/DISTRITO \nLEBLON \n\nENDEREÇO ELETRÔNICO \nAC-FISCAL@ALIANSCESONAE.COM.BR \n\nENTE FEDERATIVO RESPONSÁVEL (EFR) \n***** \n\nSITUAÇÃO CADASTRAL \nATIVA \n\nMOTIVO DE SITUAÇÃO CADASTRAL \n\nSITUAÇÃO ESPECIAL \n******** \n\nNÚMERO \n00190 \n\nCOMPLEMENTO \nSAL 301 \n\nMUNICÍPIO \nRIO DE JANEIRO \n\nTELEFONE \n(21) 2176-7272 \n\nDATA DA SITUAÇÃO CADASTRAL \n08/07/2003 \n\nDATA DA SITUAÇÃO ESPECIAL \n******** \n\nAprovado pela Instrução Normativa RFB nº 1.863, de 27 de dezembro de 2018.\n\nEmitido no dia 22/01/2021 às 22:02:39 (data e hora de Brasília).\n\nPágina: 1/1\n\nhttps://servicos.receita.fazenda.gov.br/servicos/cnpjreva/Cnpjreva_Comprovante.asp\n\nPágina 1 de 1\n\n\f\n"
     ]
    }
   ],
   "source": [
    "url = \"D:\\\\Projects\\\\LIME\\\\ComputerVision\\\\assets\\\\CNPJ2.pdf\"\n",
    "\n",
    "data2 =  pdf_to_text(url)\n",
    "print(data2)"
   ]
  },
  {
   "cell_type": "code",
   "execution_count": 33,
   "metadata": {},
   "outputs": [
    {
     "output_type": "execute_result",
     "data": {
      "text/plain": [
       "'\\nMATRIZ \\n\\nCOMPROVA'"
      ]
     },
     "metadata": {},
     "execution_count": 33
    }
   ],
   "source": [
    "data2[118:136]"
   ]
  },
  {
   "source": [
    "chunks = data2.split('\\n')\n",
    "chunks"
   ],
   "cell_type": "code",
   "metadata": {},
   "execution_count": null,
   "outputs": []
  },
  {
   "cell_type": "code",
   "execution_count": 41,
   "metadata": {},
   "outputs": [],
   "source": [
    "cnpj_index = chunks.index('NÚMERO DE INSCRIÇÃO ') + 1"
   ]
  },
  {
   "cell_type": "code",
   "execution_count": 42,
   "metadata": {},
   "outputs": [
    {
     "output_type": "execute_result",
     "data": {
      "text/plain": [
       "'05.878.397/0001-32'"
      ]
     },
     "metadata": {},
     "execution_count": 42
    }
   ],
   "source": [
    "chunks[cnpj_index]"
   ]
  },
  {
   "cell_type": "code",
   "execution_count": 43,
   "metadata": {},
   "outputs": [
    {
     "output_type": "execute_result",
     "data": {
      "text/plain": [
       "'12.528.708/0001-07'"
      ]
     },
     "metadata": {},
     "execution_count": 43
    }
   ],
   "source": [
    "chunks = data1.split('\\n')\n",
    "cnpj_index = chunks.index('NÚMERO DE INSCRIÇÃO ') + 1\n",
    "chunks[cnpj_index]"
   ]
  },
  {
   "source": [
    "# Nesse ponto o script consegue ser generalista para nossos documentos "
   ],
   "cell_type": "markdown",
   "metadata": {}
  }
 ]
}