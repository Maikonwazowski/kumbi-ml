{
 "metadata": {
  "language_info": {
   "codemirror_mode": {
    "name": "ipython",
    "version": 3
   },
   "file_extension": ".py",
   "mimetype": "text/x-python",
   "name": "python",
   "nbconvert_exporter": "python",
   "pygments_lexer": "ipython3",
   "version": "3.8.5"
  },
  "orig_nbformat": 2,
  "kernelspec": {
   "name": "python3",
   "display_name": "Python 3.8.5 64-bit ('tensorflow': conda)",
   "metadata": {
    "interpreter": {
     "hash": "d5ee6f43f8daf44fb22c894573c482c943e0c19a139a2457260a4ecbd1c7fc03"
    }
   }
  }
 },
 "nbformat": 4,
 "nbformat_minor": 2,
 "cells": [
  {
   "cell_type": "code",
   "execution_count": 1,
   "metadata": {},
   "outputs": [],
   "source": [
    "import pandas as pd\n",
    "\n",
    "data = pd.read_csv('customers.csv')"
   ]
  },
  {
   "cell_type": "code",
   "execution_count": 2,
   "metadata": {},
   "outputs": [
    {
     "output_type": "execute_result",
     "data": {
      "text/plain": [
       "  CUST_ID      BALANCE  BALANCE_FREQUENCY  PURCHASES  ONEOFF_PURCHASES  \\\n",
       "0  C10001    40.900749           0.818182      95.40              0.00   \n",
       "1  C10002  3202.467416           0.909091       0.00              0.00   \n",
       "2  C10003  2495.148862           1.000000     773.17            773.17   \n",
       "3  C10004  1666.670542           0.636364    1499.00           1499.00   \n",
       "4  C10005   817.714335           1.000000      16.00             16.00   \n",
       "5  C10006  1809.828751           1.000000    1333.28              0.00   \n",
       "6  C10007   627.260806           1.000000    7091.01           6402.63   \n",
       "7  C10008  1823.652743           1.000000     436.20              0.00   \n",
       "8  C10009  1014.926473           1.000000     861.49            661.49   \n",
       "9  C10010   152.225975           0.545455    1281.60           1281.60   \n",
       "\n",
       "   INSTALLMENTS_PURCHASES  CASH_ADVANCE  PURCHASES_FREQUENCY  \\\n",
       "0                   95.40      0.000000             0.166667   \n",
       "1                    0.00   6442.945483             0.000000   \n",
       "2                    0.00      0.000000             1.000000   \n",
       "3                    0.00    205.788017             0.083333   \n",
       "4                    0.00      0.000000             0.083333   \n",
       "5                 1333.28      0.000000             0.666667   \n",
       "6                  688.38      0.000000             1.000000   \n",
       "7                  436.20      0.000000             1.000000   \n",
       "8                  200.00      0.000000             0.333333   \n",
       "9                    0.00      0.000000             0.166667   \n",
       "\n",
       "   ONEOFF_PURCHASES_FREQUENCY  PURCHASES_INSTALLMENTS_FREQUENCY  \\\n",
       "0                    0.000000                          0.083333   \n",
       "1                    0.000000                          0.000000   \n",
       "2                    1.000000                          0.000000   \n",
       "3                    0.083333                          0.000000   \n",
       "4                    0.083333                          0.000000   \n",
       "5                    0.000000                          0.583333   \n",
       "6                    1.000000                          1.000000   \n",
       "7                    0.000000                          1.000000   \n",
       "8                    0.083333                          0.250000   \n",
       "9                    0.166667                          0.000000   \n",
       "\n",
       "   CASH_ADVANCE_FREQUENCY  CASH_ADVANCE_TRX  PURCHASES_TRX  CREDIT_LIMIT  \\\n",
       "0                0.000000                 0              2        1000.0   \n",
       "1                0.250000                 4              0        7000.0   \n",
       "2                0.000000                 0             12        7500.0   \n",
       "3                0.083333                 1              1        7500.0   \n",
       "4                0.000000                 0              1        1200.0   \n",
       "5                0.000000                 0              8        1800.0   \n",
       "6                0.000000                 0             64       13500.0   \n",
       "7                0.000000                 0             12        2300.0   \n",
       "8                0.000000                 0              5        7000.0   \n",
       "9                0.000000                 0              3       11000.0   \n",
       "\n",
       "      PAYMENTS  MINIMUM_PAYMENTS  PRC_FULL_PAYMENT  TENURE  \n",
       "0   201.802084        139.509787          0.000000      12  \n",
       "1  4103.032597       1072.340217          0.222222      12  \n",
       "2   622.066742        627.284787          0.000000      12  \n",
       "3     0.000000               NaN          0.000000      12  \n",
       "4   678.334763        244.791237          0.000000      12  \n",
       "5  1400.057770       2407.246035          0.000000      12  \n",
       "6  6354.314328        198.065894          1.000000      12  \n",
       "7   679.065082        532.033990          0.000000      12  \n",
       "8   688.278568        311.963409          0.000000      12  \n",
       "9  1164.770591        100.302262          0.000000      12  "
      ],
      "text/html": "<div>\n<style scoped>\n    .dataframe tbody tr th:only-of-type {\n        vertical-align: middle;\n    }\n\n    .dataframe tbody tr th {\n        vertical-align: top;\n    }\n\n    .dataframe thead th {\n        text-align: right;\n    }\n</style>\n<table border=\"1\" class=\"dataframe\">\n  <thead>\n    <tr style=\"text-align: right;\">\n      <th></th>\n      <th>CUST_ID</th>\n      <th>BALANCE</th>\n      <th>BALANCE_FREQUENCY</th>\n      <th>PURCHASES</th>\n      <th>ONEOFF_PURCHASES</th>\n      <th>INSTALLMENTS_PURCHASES</th>\n      <th>CASH_ADVANCE</th>\n      <th>PURCHASES_FREQUENCY</th>\n      <th>ONEOFF_PURCHASES_FREQUENCY</th>\n      <th>PURCHASES_INSTALLMENTS_FREQUENCY</th>\n      <th>CASH_ADVANCE_FREQUENCY</th>\n      <th>CASH_ADVANCE_TRX</th>\n      <th>PURCHASES_TRX</th>\n      <th>CREDIT_LIMIT</th>\n      <th>PAYMENTS</th>\n      <th>MINIMUM_PAYMENTS</th>\n      <th>PRC_FULL_PAYMENT</th>\n      <th>TENURE</th>\n    </tr>\n  </thead>\n  <tbody>\n    <tr>\n      <th>0</th>\n      <td>C10001</td>\n      <td>40.900749</td>\n      <td>0.818182</td>\n      <td>95.40</td>\n      <td>0.00</td>\n      <td>95.40</td>\n      <td>0.000000</td>\n      <td>0.166667</td>\n      <td>0.000000</td>\n      <td>0.083333</td>\n      <td>0.000000</td>\n      <td>0</td>\n      <td>2</td>\n      <td>1000.0</td>\n      <td>201.802084</td>\n      <td>139.509787</td>\n      <td>0.000000</td>\n      <td>12</td>\n    </tr>\n    <tr>\n      <th>1</th>\n      <td>C10002</td>\n      <td>3202.467416</td>\n      <td>0.909091</td>\n      <td>0.00</td>\n      <td>0.00</td>\n      <td>0.00</td>\n      <td>6442.945483</td>\n      <td>0.000000</td>\n      <td>0.000000</td>\n      <td>0.000000</td>\n      <td>0.250000</td>\n      <td>4</td>\n      <td>0</td>\n      <td>7000.0</td>\n      <td>4103.032597</td>\n      <td>1072.340217</td>\n      <td>0.222222</td>\n      <td>12</td>\n    </tr>\n    <tr>\n      <th>2</th>\n      <td>C10003</td>\n      <td>2495.148862</td>\n      <td>1.000000</td>\n      <td>773.17</td>\n      <td>773.17</td>\n      <td>0.00</td>\n      <td>0.000000</td>\n      <td>1.000000</td>\n      <td>1.000000</td>\n      <td>0.000000</td>\n      <td>0.000000</td>\n      <td>0</td>\n      <td>12</td>\n      <td>7500.0</td>\n      <td>622.066742</td>\n      <td>627.284787</td>\n      <td>0.000000</td>\n      <td>12</td>\n    </tr>\n    <tr>\n      <th>3</th>\n      <td>C10004</td>\n      <td>1666.670542</td>\n      <td>0.636364</td>\n      <td>1499.00</td>\n      <td>1499.00</td>\n      <td>0.00</td>\n      <td>205.788017</td>\n      <td>0.083333</td>\n      <td>0.083333</td>\n      <td>0.000000</td>\n      <td>0.083333</td>\n      <td>1</td>\n      <td>1</td>\n      <td>7500.0</td>\n      <td>0.000000</td>\n      <td>NaN</td>\n      <td>0.000000</td>\n      <td>12</td>\n    </tr>\n    <tr>\n      <th>4</th>\n      <td>C10005</td>\n      <td>817.714335</td>\n      <td>1.000000</td>\n      <td>16.00</td>\n      <td>16.00</td>\n      <td>0.00</td>\n      <td>0.000000</td>\n      <td>0.083333</td>\n      <td>0.083333</td>\n      <td>0.000000</td>\n      <td>0.000000</td>\n      <td>0</td>\n      <td>1</td>\n      <td>1200.0</td>\n      <td>678.334763</td>\n      <td>244.791237</td>\n      <td>0.000000</td>\n      <td>12</td>\n    </tr>\n    <tr>\n      <th>5</th>\n      <td>C10006</td>\n      <td>1809.828751</td>\n      <td>1.000000</td>\n      <td>1333.28</td>\n      <td>0.00</td>\n      <td>1333.28</td>\n      <td>0.000000</td>\n      <td>0.666667</td>\n      <td>0.000000</td>\n      <td>0.583333</td>\n      <td>0.000000</td>\n      <td>0</td>\n      <td>8</td>\n      <td>1800.0</td>\n      <td>1400.057770</td>\n      <td>2407.246035</td>\n      <td>0.000000</td>\n      <td>12</td>\n    </tr>\n    <tr>\n      <th>6</th>\n      <td>C10007</td>\n      <td>627.260806</td>\n      <td>1.000000</td>\n      <td>7091.01</td>\n      <td>6402.63</td>\n      <td>688.38</td>\n      <td>0.000000</td>\n      <td>1.000000</td>\n      <td>1.000000</td>\n      <td>1.000000</td>\n      <td>0.000000</td>\n      <td>0</td>\n      <td>64</td>\n      <td>13500.0</td>\n      <td>6354.314328</td>\n      <td>198.065894</td>\n      <td>1.000000</td>\n      <td>12</td>\n    </tr>\n    <tr>\n      <th>7</th>\n      <td>C10008</td>\n      <td>1823.652743</td>\n      <td>1.000000</td>\n      <td>436.20</td>\n      <td>0.00</td>\n      <td>436.20</td>\n      <td>0.000000</td>\n      <td>1.000000</td>\n      <td>0.000000</td>\n      <td>1.000000</td>\n      <td>0.000000</td>\n      <td>0</td>\n      <td>12</td>\n      <td>2300.0</td>\n      <td>679.065082</td>\n      <td>532.033990</td>\n      <td>0.000000</td>\n      <td>12</td>\n    </tr>\n    <tr>\n      <th>8</th>\n      <td>C10009</td>\n      <td>1014.926473</td>\n      <td>1.000000</td>\n      <td>861.49</td>\n      <td>661.49</td>\n      <td>200.00</td>\n      <td>0.000000</td>\n      <td>0.333333</td>\n      <td>0.083333</td>\n      <td>0.250000</td>\n      <td>0.000000</td>\n      <td>0</td>\n      <td>5</td>\n      <td>7000.0</td>\n      <td>688.278568</td>\n      <td>311.963409</td>\n      <td>0.000000</td>\n      <td>12</td>\n    </tr>\n    <tr>\n      <th>9</th>\n      <td>C10010</td>\n      <td>152.225975</td>\n      <td>0.545455</td>\n      <td>1281.60</td>\n      <td>1281.60</td>\n      <td>0.00</td>\n      <td>0.000000</td>\n      <td>0.166667</td>\n      <td>0.166667</td>\n      <td>0.000000</td>\n      <td>0.000000</td>\n      <td>0</td>\n      <td>3</td>\n      <td>11000.0</td>\n      <td>1164.770591</td>\n      <td>100.302262</td>\n      <td>0.000000</td>\n      <td>12</td>\n    </tr>\n  </tbody>\n</table>\n</div>"
     },
     "metadata": {},
     "execution_count": 2
    }
   ],
   "source": [
    "data.head(10)"
   ]
  },
  {
   "cell_type": "code",
   "execution_count": 3,
   "metadata": {},
   "outputs": [
    {
     "output_type": "execute_result",
     "data": {
      "text/plain": [
       "       BALANCE  BALANCE_FREQUENCY  PURCHASES  ONEOFF_PURCHASES  \\\n",
       "0    40.900749           0.818182      95.40              0.00   \n",
       "1  3202.467416           0.909091       0.00              0.00   \n",
       "2  2495.148862           1.000000     773.17            773.17   \n",
       "3  1666.670542           0.636364    1499.00           1499.00   \n",
       "4   817.714335           1.000000      16.00             16.00   \n",
       "5  1809.828751           1.000000    1333.28              0.00   \n",
       "6   627.260806           1.000000    7091.01           6402.63   \n",
       "7  1823.652743           1.000000     436.20              0.00   \n",
       "8  1014.926473           1.000000     861.49            661.49   \n",
       "9   152.225975           0.545455    1281.60           1281.60   \n",
       "\n",
       "   INSTALLMENTS_PURCHASES  CASH_ADVANCE  PURCHASES_FREQUENCY  \\\n",
       "0                   95.40      0.000000             0.166667   \n",
       "1                    0.00   6442.945483             0.000000   \n",
       "2                    0.00      0.000000             1.000000   \n",
       "3                    0.00    205.788017             0.083333   \n",
       "4                    0.00      0.000000             0.083333   \n",
       "5                 1333.28      0.000000             0.666667   \n",
       "6                  688.38      0.000000             1.000000   \n",
       "7                  436.20      0.000000             1.000000   \n",
       "8                  200.00      0.000000             0.333333   \n",
       "9                    0.00      0.000000             0.166667   \n",
       "\n",
       "   ONEOFF_PURCHASES_FREQUENCY  PURCHASES_INSTALLMENTS_FREQUENCY  \\\n",
       "0                    0.000000                          0.083333   \n",
       "1                    0.000000                          0.000000   \n",
       "2                    1.000000                          0.000000   \n",
       "3                    0.083333                          0.000000   \n",
       "4                    0.083333                          0.000000   \n",
       "5                    0.000000                          0.583333   \n",
       "6                    1.000000                          1.000000   \n",
       "7                    0.000000                          1.000000   \n",
       "8                    0.083333                          0.250000   \n",
       "9                    0.166667                          0.000000   \n",
       "\n",
       "   CASH_ADVANCE_FREQUENCY  CASH_ADVANCE_TRX  PURCHASES_TRX  CREDIT_LIMIT  \\\n",
       "0                0.000000                 0              2        1000.0   \n",
       "1                0.250000                 4              0        7000.0   \n",
       "2                0.000000                 0             12        7500.0   \n",
       "3                0.083333                 1              1        7500.0   \n",
       "4                0.000000                 0              1        1200.0   \n",
       "5                0.000000                 0              8        1800.0   \n",
       "6                0.000000                 0             64       13500.0   \n",
       "7                0.000000                 0             12        2300.0   \n",
       "8                0.000000                 0              5        7000.0   \n",
       "9                0.000000                 0              3       11000.0   \n",
       "\n",
       "      PAYMENTS  MINIMUM_PAYMENTS  PRC_FULL_PAYMENT  \n",
       "0   201.802084        139.509787          0.000000  \n",
       "1  4103.032597       1072.340217          0.222222  \n",
       "2   622.066742        627.284787          0.000000  \n",
       "3     0.000000               NaN          0.000000  \n",
       "4   678.334763        244.791237          0.000000  \n",
       "5  1400.057770       2407.246035          0.000000  \n",
       "6  6354.314328        198.065894          1.000000  \n",
       "7   679.065082        532.033990          0.000000  \n",
       "8   688.278568        311.963409          0.000000  \n",
       "9  1164.770591        100.302262          0.000000  "
      ],
      "text/html": "<div>\n<style scoped>\n    .dataframe tbody tr th:only-of-type {\n        vertical-align: middle;\n    }\n\n    .dataframe tbody tr th {\n        vertical-align: top;\n    }\n\n    .dataframe thead th {\n        text-align: right;\n    }\n</style>\n<table border=\"1\" class=\"dataframe\">\n  <thead>\n    <tr style=\"text-align: right;\">\n      <th></th>\n      <th>BALANCE</th>\n      <th>BALANCE_FREQUENCY</th>\n      <th>PURCHASES</th>\n      <th>ONEOFF_PURCHASES</th>\n      <th>INSTALLMENTS_PURCHASES</th>\n      <th>CASH_ADVANCE</th>\n      <th>PURCHASES_FREQUENCY</th>\n      <th>ONEOFF_PURCHASES_FREQUENCY</th>\n      <th>PURCHASES_INSTALLMENTS_FREQUENCY</th>\n      <th>CASH_ADVANCE_FREQUENCY</th>\n      <th>CASH_ADVANCE_TRX</th>\n      <th>PURCHASES_TRX</th>\n      <th>CREDIT_LIMIT</th>\n      <th>PAYMENTS</th>\n      <th>MINIMUM_PAYMENTS</th>\n      <th>PRC_FULL_PAYMENT</th>\n    </tr>\n  </thead>\n  <tbody>\n    <tr>\n      <th>0</th>\n      <td>40.900749</td>\n      <td>0.818182</td>\n      <td>95.40</td>\n      <td>0.00</td>\n      <td>95.40</td>\n      <td>0.000000</td>\n      <td>0.166667</td>\n      <td>0.000000</td>\n      <td>0.083333</td>\n      <td>0.000000</td>\n      <td>0</td>\n      <td>2</td>\n      <td>1000.0</td>\n      <td>201.802084</td>\n      <td>139.509787</td>\n      <td>0.000000</td>\n    </tr>\n    <tr>\n      <th>1</th>\n      <td>3202.467416</td>\n      <td>0.909091</td>\n      <td>0.00</td>\n      <td>0.00</td>\n      <td>0.00</td>\n      <td>6442.945483</td>\n      <td>0.000000</td>\n      <td>0.000000</td>\n      <td>0.000000</td>\n      <td>0.250000</td>\n      <td>4</td>\n      <td>0</td>\n      <td>7000.0</td>\n      <td>4103.032597</td>\n      <td>1072.340217</td>\n      <td>0.222222</td>\n    </tr>\n    <tr>\n      <th>2</th>\n      <td>2495.148862</td>\n      <td>1.000000</td>\n      <td>773.17</td>\n      <td>773.17</td>\n      <td>0.00</td>\n      <td>0.000000</td>\n      <td>1.000000</td>\n      <td>1.000000</td>\n      <td>0.000000</td>\n      <td>0.000000</td>\n      <td>0</td>\n      <td>12</td>\n      <td>7500.0</td>\n      <td>622.066742</td>\n      <td>627.284787</td>\n      <td>0.000000</td>\n    </tr>\n    <tr>\n      <th>3</th>\n      <td>1666.670542</td>\n      <td>0.636364</td>\n      <td>1499.00</td>\n      <td>1499.00</td>\n      <td>0.00</td>\n      <td>205.788017</td>\n      <td>0.083333</td>\n      <td>0.083333</td>\n      <td>0.000000</td>\n      <td>0.083333</td>\n      <td>1</td>\n      <td>1</td>\n      <td>7500.0</td>\n      <td>0.000000</td>\n      <td>NaN</td>\n      <td>0.000000</td>\n    </tr>\n    <tr>\n      <th>4</th>\n      <td>817.714335</td>\n      <td>1.000000</td>\n      <td>16.00</td>\n      <td>16.00</td>\n      <td>0.00</td>\n      <td>0.000000</td>\n      <td>0.083333</td>\n      <td>0.083333</td>\n      <td>0.000000</td>\n      <td>0.000000</td>\n      <td>0</td>\n      <td>1</td>\n      <td>1200.0</td>\n      <td>678.334763</td>\n      <td>244.791237</td>\n      <td>0.000000</td>\n    </tr>\n    <tr>\n      <th>5</th>\n      <td>1809.828751</td>\n      <td>1.000000</td>\n      <td>1333.28</td>\n      <td>0.00</td>\n      <td>1333.28</td>\n      <td>0.000000</td>\n      <td>0.666667</td>\n      <td>0.000000</td>\n      <td>0.583333</td>\n      <td>0.000000</td>\n      <td>0</td>\n      <td>8</td>\n      <td>1800.0</td>\n      <td>1400.057770</td>\n      <td>2407.246035</td>\n      <td>0.000000</td>\n    </tr>\n    <tr>\n      <th>6</th>\n      <td>627.260806</td>\n      <td>1.000000</td>\n      <td>7091.01</td>\n      <td>6402.63</td>\n      <td>688.38</td>\n      <td>0.000000</td>\n      <td>1.000000</td>\n      <td>1.000000</td>\n      <td>1.000000</td>\n      <td>0.000000</td>\n      <td>0</td>\n      <td>64</td>\n      <td>13500.0</td>\n      <td>6354.314328</td>\n      <td>198.065894</td>\n      <td>1.000000</td>\n    </tr>\n    <tr>\n      <th>7</th>\n      <td>1823.652743</td>\n      <td>1.000000</td>\n      <td>436.20</td>\n      <td>0.00</td>\n      <td>436.20</td>\n      <td>0.000000</td>\n      <td>1.000000</td>\n      <td>0.000000</td>\n      <td>1.000000</td>\n      <td>0.000000</td>\n      <td>0</td>\n      <td>12</td>\n      <td>2300.0</td>\n      <td>679.065082</td>\n      <td>532.033990</td>\n      <td>0.000000</td>\n    </tr>\n    <tr>\n      <th>8</th>\n      <td>1014.926473</td>\n      <td>1.000000</td>\n      <td>861.49</td>\n      <td>661.49</td>\n      <td>200.00</td>\n      <td>0.000000</td>\n      <td>0.333333</td>\n      <td>0.083333</td>\n      <td>0.250000</td>\n      <td>0.000000</td>\n      <td>0</td>\n      <td>5</td>\n      <td>7000.0</td>\n      <td>688.278568</td>\n      <td>311.963409</td>\n      <td>0.000000</td>\n    </tr>\n    <tr>\n      <th>9</th>\n      <td>152.225975</td>\n      <td>0.545455</td>\n      <td>1281.60</td>\n      <td>1281.60</td>\n      <td>0.00</td>\n      <td>0.000000</td>\n      <td>0.166667</td>\n      <td>0.166667</td>\n      <td>0.000000</td>\n      <td>0.000000</td>\n      <td>0</td>\n      <td>3</td>\n      <td>11000.0</td>\n      <td>1164.770591</td>\n      <td>100.302262</td>\n      <td>0.000000</td>\n    </tr>\n  </tbody>\n</table>\n</div>"
     },
     "metadata": {},
     "execution_count": 3
    }
   ],
   "source": [
    "# removing some columns that not make sense \n",
    "data.drop(columns=[\"CUST_ID\", \"TENURE\"], inplace=True)\n",
    "data.head(10)"
   ]
  },
  {
   "cell_type": "code",
   "execution_count": 4,
   "metadata": {},
   "outputs": [
    {
     "output_type": "stream",
     "name": "stdout",
     "text": [
      "BALANCE                               0\nBALANCE_FREQUENCY                     0\nPURCHASES                             0\nONEOFF_PURCHASES                      0\nINSTALLMENTS_PURCHASES                0\nCASH_ADVANCE                          0\nPURCHASES_FREQUENCY                   0\nONEOFF_PURCHASES_FREQUENCY            0\nPURCHASES_INSTALLMENTS_FREQUENCY      0\nCASH_ADVANCE_FREQUENCY                0\nCASH_ADVANCE_TRX                      0\nPURCHASES_TRX                         0\nCREDIT_LIMIT                          1\nPAYMENTS                              0\nMINIMUM_PAYMENTS                    313\nPRC_FULL_PAYMENT                      0\ndtype: int64\n"
     ]
    }
   ],
   "source": [
    "missing = data.isna().sum()\n",
    "print(missing)"
   ]
  },
  {
   "cell_type": "code",
   "execution_count": 5,
   "metadata": {},
   "outputs": [
    {
     "output_type": "stream",
     "name": "stdout",
     "text": [
      "BALANCE                             0\nBALANCE_FREQUENCY                   0\nPURCHASES                           0\nONEOFF_PURCHASES                    0\nINSTALLMENTS_PURCHASES              0\nCASH_ADVANCE                        0\nPURCHASES_FREQUENCY                 0\nONEOFF_PURCHASES_FREQUENCY          0\nPURCHASES_INSTALLMENTS_FREQUENCY    0\nCASH_ADVANCE_FREQUENCY              0\nCASH_ADVANCE_TRX                    0\nPURCHASES_TRX                       0\nCREDIT_LIMIT                        0\nPAYMENTS                            0\nMINIMUM_PAYMENTS                    0\nPRC_FULL_PAYMENT                    0\ndtype: int64\n"
     ]
    }
   ],
   "source": [
    "# Eliminando os dados nulos\n",
    "data.fillna(data.median(), inplace=True)\n",
    "missing = data.isna().sum()\n",
    "print(missing)"
   ]
  },
  {
   "cell_type": "code",
   "execution_count": 6,
   "metadata": {},
   "outputs": [
    {
     "output_type": "execute_result",
     "data": {
      "text/plain": [
       "       BALANCE  BALANCE_FREQUENCY  PURCHASES  ONEOFF_PURCHASES  \\\n",
       "0    40.900749           0.818182      95.40              0.00   \n",
       "1  3202.467416           0.909091       0.00              0.00   \n",
       "2  2495.148862           1.000000     773.17            773.17   \n",
       "3  1666.670542           0.636364    1499.00           1499.00   \n",
       "4   817.714335           1.000000      16.00             16.00   \n",
       "\n",
       "   INSTALLMENTS_PURCHASES  CASH_ADVANCE  PURCHASES_FREQUENCY  \\\n",
       "0                    95.4      0.000000             0.166667   \n",
       "1                     0.0   6442.945483             0.000000   \n",
       "2                     0.0      0.000000             1.000000   \n",
       "3                     0.0    205.788017             0.083333   \n",
       "4                     0.0      0.000000             0.083333   \n",
       "\n",
       "   ONEOFF_PURCHASES_FREQUENCY  PURCHASES_INSTALLMENTS_FREQUENCY  \\\n",
       "0                    0.000000                          0.083333   \n",
       "1                    0.000000                          0.000000   \n",
       "2                    1.000000                          0.000000   \n",
       "3                    0.083333                          0.000000   \n",
       "4                    0.083333                          0.000000   \n",
       "\n",
       "   CASH_ADVANCE_FREQUENCY  CASH_ADVANCE_TRX  PURCHASES_TRX  CREDIT_LIMIT  \\\n",
       "0                0.000000                 0              2        1000.0   \n",
       "1                0.250000                 4              0        7000.0   \n",
       "2                0.000000                 0             12        7500.0   \n",
       "3                0.083333                 1              1        7500.0   \n",
       "4                0.000000                 0              1        1200.0   \n",
       "\n",
       "      PAYMENTS  MINIMUM_PAYMENTS  PRC_FULL_PAYMENT  \n",
       "0   201.802084        139.509787          0.000000  \n",
       "1  4103.032597       1072.340217          0.222222  \n",
       "2   622.066742        627.284787          0.000000  \n",
       "3     0.000000        312.343947          0.000000  \n",
       "4   678.334763        244.791237          0.000000  "
      ],
      "text/html": "<div>\n<style scoped>\n    .dataframe tbody tr th:only-of-type {\n        vertical-align: middle;\n    }\n\n    .dataframe tbody tr th {\n        vertical-align: top;\n    }\n\n    .dataframe thead th {\n        text-align: right;\n    }\n</style>\n<table border=\"1\" class=\"dataframe\">\n  <thead>\n    <tr style=\"text-align: right;\">\n      <th></th>\n      <th>BALANCE</th>\n      <th>BALANCE_FREQUENCY</th>\n      <th>PURCHASES</th>\n      <th>ONEOFF_PURCHASES</th>\n      <th>INSTALLMENTS_PURCHASES</th>\n      <th>CASH_ADVANCE</th>\n      <th>PURCHASES_FREQUENCY</th>\n      <th>ONEOFF_PURCHASES_FREQUENCY</th>\n      <th>PURCHASES_INSTALLMENTS_FREQUENCY</th>\n      <th>CASH_ADVANCE_FREQUENCY</th>\n      <th>CASH_ADVANCE_TRX</th>\n      <th>PURCHASES_TRX</th>\n      <th>CREDIT_LIMIT</th>\n      <th>PAYMENTS</th>\n      <th>MINIMUM_PAYMENTS</th>\n      <th>PRC_FULL_PAYMENT</th>\n    </tr>\n  </thead>\n  <tbody>\n    <tr>\n      <th>0</th>\n      <td>40.900749</td>\n      <td>0.818182</td>\n      <td>95.40</td>\n      <td>0.00</td>\n      <td>95.4</td>\n      <td>0.000000</td>\n      <td>0.166667</td>\n      <td>0.000000</td>\n      <td>0.083333</td>\n      <td>0.000000</td>\n      <td>0</td>\n      <td>2</td>\n      <td>1000.0</td>\n      <td>201.802084</td>\n      <td>139.509787</td>\n      <td>0.000000</td>\n    </tr>\n    <tr>\n      <th>1</th>\n      <td>3202.467416</td>\n      <td>0.909091</td>\n      <td>0.00</td>\n      <td>0.00</td>\n      <td>0.0</td>\n      <td>6442.945483</td>\n      <td>0.000000</td>\n      <td>0.000000</td>\n      <td>0.000000</td>\n      <td>0.250000</td>\n      <td>4</td>\n      <td>0</td>\n      <td>7000.0</td>\n      <td>4103.032597</td>\n      <td>1072.340217</td>\n      <td>0.222222</td>\n    </tr>\n    <tr>\n      <th>2</th>\n      <td>2495.148862</td>\n      <td>1.000000</td>\n      <td>773.17</td>\n      <td>773.17</td>\n      <td>0.0</td>\n      <td>0.000000</td>\n      <td>1.000000</td>\n      <td>1.000000</td>\n      <td>0.000000</td>\n      <td>0.000000</td>\n      <td>0</td>\n      <td>12</td>\n      <td>7500.0</td>\n      <td>622.066742</td>\n      <td>627.284787</td>\n      <td>0.000000</td>\n    </tr>\n    <tr>\n      <th>3</th>\n      <td>1666.670542</td>\n      <td>0.636364</td>\n      <td>1499.00</td>\n      <td>1499.00</td>\n      <td>0.0</td>\n      <td>205.788017</td>\n      <td>0.083333</td>\n      <td>0.083333</td>\n      <td>0.000000</td>\n      <td>0.083333</td>\n      <td>1</td>\n      <td>1</td>\n      <td>7500.0</td>\n      <td>0.000000</td>\n      <td>312.343947</td>\n      <td>0.000000</td>\n    </tr>\n    <tr>\n      <th>4</th>\n      <td>817.714335</td>\n      <td>1.000000</td>\n      <td>16.00</td>\n      <td>16.00</td>\n      <td>0.0</td>\n      <td>0.000000</td>\n      <td>0.083333</td>\n      <td>0.083333</td>\n      <td>0.000000</td>\n      <td>0.000000</td>\n      <td>0</td>\n      <td>1</td>\n      <td>1200.0</td>\n      <td>678.334763</td>\n      <td>244.791237</td>\n      <td>0.000000</td>\n    </tr>\n  </tbody>\n</table>\n</div>"
     },
     "metadata": {},
     "execution_count": 6
    }
   ],
   "source": [
    "data.head()"
   ]
  },
  {
   "cell_type": "code",
   "execution_count": 7,
   "metadata": {},
   "outputs": [
    {
     "output_type": "stream",
     "name": "stdout",
     "text": [
      "[[3.93555441e-02 7.87271593e-04 9.17958473e-02 ... 1.94178127e-01\n  1.34239194e-01 0.00000000e+00]\n [2.93875903e-01 8.34231560e-05 0.00000000e+00 ... 3.76516684e-01\n  9.84037959e-02 2.03923046e-05]\n [3.10798149e-01 1.24560965e-04 9.63068011e-02 ... 7.74852335e-02\n  7.81351982e-02 0.00000000e+00]\n ...\n [2.27733092e-02 8.11060955e-04 1.40540698e-01 ... 7.90986945e-02\n  8.02156174e-02 2.43318384e-04]\n [2.65257948e-02 1.64255731e-03 0.00000000e+00 ... 1.03579625e-01\n  1.09898221e-01 4.92767391e-04]\n [1.86406219e-01 3.33426837e-04 5.46778061e-01 ... 3.15915455e-02\n  4.41568390e-02 0.00000000e+00]]\n"
     ]
    }
   ],
   "source": [
    "# Normalizando os dados\n",
    "from sklearn.preprocessing import Normalizer\n",
    "values = Normalizer().fit_transform(data.values)\n",
    "print(values)"
   ]
  },
  {
   "cell_type": "code",
   "execution_count": 8,
   "metadata": {},
   "outputs": [
    {
     "output_type": "stream",
     "name": "stdout",
     "text": [
      "[2 1 2 ... 2 2 0]\n"
     ]
    }
   ],
   "source": [
    "# Clusterizando\n",
    "\n",
    "from sklearn.cluster import KMeans\n",
    "\n",
    "# n_init = número de vezes que não se repete para garantir a confiabilidade\n",
    "# max_iter = número máximo de iterações\n",
    "kmeans = KMeans(n_clusters=3, n_init=10, max_iter=300)\n",
    "y_pred = kmeans.fit_predict(values)\n",
    "\n",
    "print(y_pred)"
   ]
  },
  {
   "cell_type": "code",
   "execution_count": 9,
   "metadata": {},
   "outputs": [
    {
     "output_type": "stream",
     "name": "stdout",
     "text": [
      "0.3272203126696238\n"
     ]
    }
   ],
   "source": [
    "\n",
    "# Calculando o silhouette\n",
    "\n",
    "\n",
    "# varia de [-1, 1], se for positivo adotamos com um bom valor\n",
    "from sklearn import metrics\n",
    "\n",
    "labels = kmeans.labels_\n",
    "silhouette = metrics.silhouette_score(values, labels, metric='euclidean')\n",
    "print(silhouette)"
   ]
  },
  {
   "cell_type": "code",
   "execution_count": null,
   "metadata": {},
   "outputs": [],
   "source": []
  }
 ]
}